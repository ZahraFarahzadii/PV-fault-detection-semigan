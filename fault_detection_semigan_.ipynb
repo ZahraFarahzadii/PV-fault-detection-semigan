{
  "nbformat": 4,
  "nbformat_minor": 0,
  "metadata": {
    "colab": {
      "provenance": [],
      "include_colab_link": true
    },
    "kernelspec": {
      "name": "python3",
      "display_name": "Python 3"
    }
  },
  "cells": [
    {
      "cell_type": "markdown",
      "metadata": {
        "id": "view-in-github",
        "colab_type": "text"
      },
      "source": [
        "<a href=\"https://colab.research.google.com/github/ZahraFarahzadii/PV-fault-detection-semigan/blob/main/fault_detection_semigan_.ipynb\" target=\"_parent\"><img src=\"https://colab.research.google.com/assets/colab-badge.svg\" alt=\"Open In Colab\"/></a>"
      ]
    },
    {
      "cell_type": "code",
      "source": [
        "from numpy.random import randint\n",
        "import numpy as np\n",
        "import os\n",
        "\n",
        "import cv2\n",
        "import matplotlib.pyplot as plt\n",
        "import tensorflow as tf\n",
        "from keras.models import Sequential\n",
        "from keras.layers import Conv2D, Dense, Flatten\n",
        "from keras.datasets.mnist import load_data\n",
        "from keras.layers import Dropout\n",
        "from tensorflow.keras.optimizers import Adam\n",
        "from tensorflow.keras.preprocessing.image import ImageDataGenerator\n",
        "from numpy.random.mtrand import shuffle\n",
        "\n",
        "from numpy import expand_dims, zeros, ones, asarray\n",
        "from numpy.random import randn, randint\n",
        "import tensorflow as tf\n",
        "import keras\n",
        "import pandas as pd\n",
        "from keras.preprocessing.sequence import TimeseriesGenerator\n",
        "from tensorflow.keras.models import Sequential\n",
        "from tensorflow.keras.layers import Dense, Dropout, LSTM\n",
        "from sklearn.model_selection import  train_test_split\n",
        "from sklearn.preprocessing import MinMaxScaler,StandardScaler\n",
        "import matplotlib.pyplot as plt\n",
        "\n",
        "from keras.datasets.mnist import load_data\n",
        "from tensorflow.keras.optimizers import Adam\n",
        "from keras.models import Model, Sequential\n",
        "\n",
        "from keras.layers import Input, Dense, Reshape, Flatten, Conv2D, Conv2DTranspose\n",
        "from keras.layers import LeakyReLU, Dropout, Lambda, Activation,ReLU\n",
        "\n",
        "\n",
        "from matplotlib import pyplot as plt\n",
        "from keras import backend as K\n",
        "import numpy as np\n",
        "import tensorflow as tf\n",
        "import keras\n",
        "from keras.preprocessing.image import ImageDataGenerator\n",
        "from keras.models import Sequential\n",
        "from keras.layers import Conv2D, MaxPooling2D\n",
        "from keras.layers import Activation, Dropout, Flatten, Dense, BatchNormalization\n",
        "from keras import backend as K"
      ],
      "metadata": {
        "id": "Q4GsmqHeiG-t"
      },
      "execution_count": null,
      "outputs": []
    },
    {
      "cell_type": "code",
      "source": [
        "from google.colab import drive\n",
        "drive.mount('/content/drive')"
      ],
      "metadata": {
        "colab": {
          "base_uri": "https://localhost:8080/"
        },
        "id": "khlR3kKbiJ16",
        "outputId": "555b41c5-1e84-41ee-be7d-543be3865b55"
      },
      "execution_count": null,
      "outputs": [
        {
          "output_type": "stream",
          "name": "stdout",
          "text": [
            "Drive already mounted at /content/drive; to attempt to forcibly remount, call drive.mount(\"/content/drive\", force_remount=True).\n"
          ]
        }
      ]
    },
    {
      "cell_type": "markdown",
      "source": [
        "create train data"
      ],
      "metadata": {
        "id": "Mma8BkzooHar"
      }
    },
    {
      "cell_type": "code",
      "source": [
        "training_data=[]\n",
        "def create_training_data():\n",
        "  DATADIR='/content/drive/MyDrive/data4class/train'\n",
        "  CATEGORIES=['class0','class1','class2','class3']\n",
        "  for category in CATEGORIES:\n",
        "    path=os.path.join(DATADIR,category)\n",
        "    class_num=CATEGORIES.index(category)\n",
        "    for img in os.listdir(path):\n",
        "      try:\n",
        "        img_array=cv2.imread(os.path.join(path,img))\n",
        "        # image_rgb = cv2.cvtColor(img_array, cv2.COLOR_BGR2RGB)\n",
        "        # new_array=cv2.resize(image_rgb,(384,384))\n",
        "        new_array=cv2.resize(img_array,(384,384))\n",
        "        training_data.append([new_array,class_num])\n",
        "      except Exception as e:\n",
        "        pass\n",
        "create_training_data()\n"
      ],
      "metadata": {
        "id": "aJNrLjnAiL3-"
      },
      "execution_count": null,
      "outputs": []
    },
    {
      "cell_type": "code",
      "source": [
        "import random\n",
        "rnd_seed=42\n",
        "random.seed(rnd_seed)\n",
        "random.shuffle(training_data)\n"
      ],
      "metadata": {
        "id": "Xqz5ty9hiOf8"
      },
      "execution_count": null,
      "outputs": []
    },
    {
      "cell_type": "code",
      "source": [
        "xtrain=[]\n",
        "ytrain=[]\n",
        "for features, label in training_data:\n",
        "  xtrain.append(features)\n",
        "  ytrain.append(label)\n",
        "xtrain=np.array(xtrain).reshape(-1,384,384,3)\n",
        "ytrain=np.array(ytrain)"
      ],
      "metadata": {
        "id": "3vLyPGcDjgUn"
      },
      "execution_count": null,
      "outputs": []
    },
    {
      "cell_type": "markdown",
      "source": [
        "create test data"
      ],
      "metadata": {
        "id": "0oy-jBNVoRh3"
      }
    },
    {
      "cell_type": "code",
      "source": [
        "test_data=[]\n",
        "def create_test_data():\n",
        "  DATADIR='/content/drive/MyDrive/data4class/valid'\n",
        "  CATEGORIES=['class0','class1','class2','class3']\n",
        "  for category in CATEGORIES:\n",
        "    path=os.path.join(DATADIR,category)\n",
        "    class_num=CATEGORIES.index(category)\n",
        "    for img in os.listdir(path):\n",
        "      try:\n",
        "        img_array=cv2.imread(os.path.join(path,img))\n",
        "        # image_rgb = cv2.cvtColor(img_array, cv2.COLOR_BGR2RGB)\n",
        "        # new_array=cv2.resize(image_rgb,(384,384))\n",
        "        new_array=cv2.resize(img_array,(384,384))\n",
        "        test_data.append([new_array,class_num])\n",
        "      except Exception as e:\n",
        "        pass\n",
        "create_test_data()"
      ],
      "metadata": {
        "id": "s-_mOKodiQjG"
      },
      "execution_count": null,
      "outputs": []
    },
    {
      "cell_type": "code",
      "source": [
        "import random\n",
        "rnd_seed=42\n",
        "random.seed(rnd_seed)\n",
        "random.shuffle(test_data)"
      ],
      "metadata": {
        "id": "sQiUsnhdiVVO"
      },
      "execution_count": null,
      "outputs": []
    },
    {
      "cell_type": "code",
      "source": [
        "xtest=[]\n",
        "ytest=[]\n",
        "for features, label in test_data:\n",
        "  xtest.append(features)\n",
        "  ytest.append(label)\n",
        "xtest=np.array(xtest).reshape(-1,384,384,3)\n",
        "ytest=np.array(ytest)\n"
      ],
      "metadata": {
        "id": "mAo_bD3DiVxe"
      },
      "execution_count": null,
      "outputs": []
    },
    {
      "cell_type": "markdown",
      "source": [
        "semi supervised gan"
      ],
      "metadata": {
        "id": "NnNsEjJHvqNe"
      }
    },
    {
      "cell_type": "code",
      "source": [
        "# define the standalone generator model\n",
        "def define_generator(latent_dim):\n",
        "\n",
        "\tin_lat = Input(shape=(latent_dim,))\n",
        "\t#Start with enough dense nodes to be reshaped and ConvTransposed to 384x384x3\n",
        "\tn_nodes = 256 * 96 * 96\n",
        "\tX = Dense(n_nodes)(in_lat)\n",
        "\tX = LeakyReLU(alpha=0.2)(X)\n",
        "\tX = Reshape((96, 96, 256))(X)\n",
        "\n",
        "\tX = Conv2DTranspose(128, (3,3), strides=(2,2), padding='same')(X) #192x192x128\n",
        "\tX = LeakyReLU(alpha=0.2)(X)\n",
        "\n",
        "\tX = Conv2DTranspose(64, (3,3), strides=(1,1), padding='same')(X) #192x192x64\n",
        "\tX = LeakyReLU(alpha=0.2)(X)\n",
        "\t# output\n",
        "\tout_layer = Conv2DTranspose(3, (3,3), strides=(2,2), activation='tanh',\n",
        "                             padding='same')(X) #384x384x3\n",
        "# define model\n",
        "\tmodel = Model(in_lat, out_layer)\n",
        "\treturn model"
      ],
      "metadata": {
        "id": "iifpXrtEvwwr"
      },
      "execution_count": null,
      "outputs": []
    },
    {
      "cell_type": "code",
      "source": [
        "gen_model=define_generator(100)\n",
        "from tensorflow.keras.utils import plot_model\n",
        "plot_model(gen_model,to_file='model_plot.png',show_shapes=True,\n",
        "           show_dtype=True, show_layer_names=False,rankdir='TB',\n",
        "           expand_nested=False,dpi=96,layer_range=None,show_layer_activations=True)"
      ],
      "metadata": {
        "colab": {
          "base_uri": "https://localhost:8080/",
          "height": 976
        },
        "id": "adW60YdHLw1g",
        "outputId": "40dcb673-ae1d-4048-d0f7-1972c20483bf"
      },
      "execution_count": null,
      "outputs": [
        {
          "output_type": "execute_result",
          "data": {
            "text/plain": [
              "<IPython.core.display.Image object>"
            ],
            "image/png": "[encoded data removed]"
          },
          "metadata": {},
          "execution_count": 3
        }
      ]
    },
    {
      "cell_type": "code",
      "source": [
        "\n",
        "# define the base discriminator model for sup and unsup discriminators\n",
        "#This is the base discriminator that supervised and unsupervised are going to share weights from.\n",
        "def define_discriminator(in_shape=(384,384,3), n_classes=4):\n",
        "    in_image = Input(shape=in_shape)\n",
        "    X = Conv2D(32, (3,3), strides=(2,2), padding='same')(in_image)\n",
        "    X = LeakyReLU(alpha=0.2)(X)\n",
        "\n",
        "    X = Conv2D(64, (3,3), strides=(2,2), padding='same')(X)\n",
        "    X = LeakyReLU(alpha=0.2)(X)\n",
        "\n",
        "    X = Conv2D(128, (3,3), strides=(2,2), padding='same')(X)\n",
        "    X = LeakyReLU(alpha=0.2)(X)\n",
        "\n",
        "    X = Flatten()(X)\n",
        "    X = Dropout(0.4)(X) #Consider adding more dropout layers to minimize overfitting\n",
        "    X = Dense(n_classes)(X)\n",
        "    model = Model(inputs=in_image, outputs=X)\n",
        "    return model"
      ],
      "metadata": {
        "id": "4OnHzLQzwKNz"
      },
      "execution_count": null,
      "outputs": []
    },
    {
      "cell_type": "code",
      "source": [
        "#Define the supervised discriminator.\n",
        "#Multiclass classification, so we will use softmax activation.\n",
        "#To avoid converting our labels to categorical, we will work with sparse categorical crossentropy loss.\n",
        "def define_sup_discriminator(disc):\n",
        "    model=Sequential()\n",
        "    model.add(disc)\n",
        "    model.add(Activation('softmax'))\n",
        "    # sparse categorical loss so we dont have to convert our Y to categorical\n",
        "    model.compile(optimizer=Adam(lr=0.0002, beta_1=0.5),\n",
        "                  loss=\"sparse_categorical_crossentropy\",metrics=['accuracy'])\n",
        "    return model"
      ],
      "metadata": {
        "id": "l97ayECbwQL4"
      },
      "execution_count": null,
      "outputs": []
    },
    {
      "cell_type": "code",
      "source": [
        "#Define the unsupervised discriminator\n",
        "#Takes the output of the supervised, just before the softmax activation.\n",
        "#Then, adds a layer with calculation of sum of exponential outputs.\n",
        "\n",
        "#This custom activation layer gives a value close to 0 for smaller activations\n",
        "#in the prior discriminator layer. It gives values close to 1 for large activations.\n",
        "#This way it gives low activation for fake images. No need for sigmoid anymore.\n",
        "\n",
        "# custom activation function for the unsupervised discriminator\n",
        "#D(x) = Z(x) / (Z(x) + 1) where Z(x) = sum(exp(l(x))). l(x) is the output from sup discr. prior to softmax\n",
        "def custom_activation(x):\n",
        "    Z_x = K.sum(K.exp(x), axis=-1, keepdims=True)\n",
        "    D_x = Z_x /(Z_x+1)\n",
        "\n",
        "    return D_x"
      ],
      "metadata": {
        "id": "XGwR-MYGwVgz"
      },
      "execution_count": null,
      "outputs": []
    },
    {
      "cell_type": "code",
      "source": [
        "\n",
        "def define_unsup_discriminator(disc):\n",
        "    model=Sequential()\n",
        "    model.add(disc)\n",
        "    model.add(Lambda(custom_activation))\n",
        "    model.compile(loss='binary_crossentropy', optimizer=Adam(lr=0.0002, beta_1=0.5))\n",
        "    return model"
      ],
      "metadata": {
        "id": "PPA0-O0ywXD0"
      },
      "execution_count": null,
      "outputs": []
    },
    {
      "cell_type": "code",
      "source": [
        "disc=define_discriminator()\n",
        "disc_sup=define_sup_discriminator(disc)\n",
        "disc_unsup=define_unsup_discriminator(disc)\n"
      ],
      "metadata": {
        "id": "Wznq6Ln849yu",
        "colab": {
          "base_uri": "https://localhost:8080/"
        },
        "outputId": "89c9dcba-41d5-466c-acb1-9bd5096527d2"
      },
      "execution_count": null,
      "outputs": [
        {
          "output_type": "stream",
          "name": "stderr",
          "text": [
            "/usr/local/lib/python3.7/dist-packages/keras/optimizer_v2/adam.py:105: UserWarning: The `lr` argument is deprecated, use `learning_rate` instead.\n",
            "  super(Adam, self).__init__(name, **kwargs)\n"
          ]
        }
      ]
    },
    {
      "cell_type": "code",
      "source": [
        "from tensorflow.keras.utils import plot_model\n",
        "plot_model(disc,to_file='model_plot.png',show_shapes=True,\n",
        "           show_dtype=True, show_layer_names=False,rankdir='TB',\n",
        "           expand_nested=False,dpi=96,layer_range=None,show_layer_activations=True)"
      ],
      "metadata": {
        "colab": {
          "base_uri": "https://localhost:8080/",
          "height": 1000
        },
        "id": "XX8zFspCMLaV",
        "outputId": "dd6a7bad-4cf0-4d0b-c2e1-f1add68ec82c"
      },
      "execution_count": null,
      "outputs": [
        {
          "output_type": "execute_result",
          "data": {
            "text/plain": [
              "<IPython.core.display.Image object>"
            ],
            "image/png": "[encoded data removed]"
          },
          "metadata": {},
          "execution_count": 21
        }
      ]
    },
    {
      "cell_type": "code",
      "source": [
        "# define the combined generator and discriminator model, for updating the generator\n",
        "def define_gan(gen_model, disc_unsup):\n",
        "\n",
        "\tdisc_unsup.trainable = False # make unsup. discriminator not trainable\n",
        "\tgan_output = disc_unsup(gen_model.output) #Gen. output is the input to disc.\n",
        "\tmodel = Model(gen_model.input, gan_output)\n",
        "\tmodel.compile(loss='binary_crossentropy', optimizer=Adam(lr=0.0002, beta_1=0.5))\n",
        "\treturn model"
      ],
      "metadata": {
        "id": "wc58J4LMwamU"
      },
      "execution_count": null,
      "outputs": []
    },
    {
      "cell_type": "code",
      "source": [
        "# gan_model = define_gan(gen_model, disc_unsup)\n",
        "# print(gan_model.summary())"
      ],
      "metadata": {
        "id": "VLBaml6Z5F2-"
      },
      "execution_count": null,
      "outputs": []
    },
    {
      "cell_type": "code",
      "source": [
        "# load the images\n",
        "def load_real_samples(n_classes=4):\n",
        "    trainX=xtrain\n",
        "    trainy=ytrain\n",
        "    X = trainX.astype('float32')\n",
        "    X = (X - 127.5) / 127.5  # scale from [0,255] to [-1,1] as we will be using tanh activation in generator .\n",
        "    print(X.shape, trainy.shape)\n",
        "    return [X, trainy]"
      ],
      "metadata": {
        "id": "5rdeelR8wgRN"
      },
      "execution_count": null,
      "outputs": []
    },
    {
      "cell_type": "code",
      "source": [
        "#data = load_real_samples()\n",
        "\n",
        "#select subset of the dataset for supervised training\n",
        "# pick only 100 samples to be used in supervised training.\n",
        "#Also, we need to ensure we pick 10 samples per class to ensure a good balance\n",
        "def select_supervised_samples(dataset, n_samples=100, n_classes=4):\n",
        " \tX, y = dataset\n",
        " \tX_list, y_list = list(), list()\n",
        " \tn_per_class = int(n_samples / n_classes) #Number of amples per class.\n",
        " \tfor i in range(n_classes):\n",
        "         X_with_class = X[y == i] # get all images for this class\n",
        "         ix = randint(0, len(X_with_class), n_per_class) # choose random images for each class\n",
        "         [X_list.append(X_with_class[j]) for j in ix] # add to list\n",
        "         [y_list.append(i) for j in ix]\n",
        " \treturn asarray(X_list), asarray(y_list) #Returns a list of 2 numpy arrays corresponding to X and Y"
      ],
      "metadata": {
        "id": "abVlsul2wx09"
      },
      "execution_count": null,
      "outputs": []
    },
    {
      "cell_type": "code",
      "source": [
        "# Pick real samples from the dataset.\n",
        "#Return both images and corresponding labels in addition to y=1 indicating that the images are real.\n",
        "# we will not use the labels for unsupervised, only used for supervised.\n",
        "def generate_real_samples(dataset, n_samples):\n",
        "\n",
        "\timages, labels = dataset\n",
        "\tix = randint(0, images.shape[0], n_samples)\n",
        "\tX, labels = images[ix], labels[ix] #Select random images and corresponding labels\n",
        "\ty = ones((n_samples, 1)) #Label all images as 1 as these are real images. (for the discriminator training)\n",
        "\treturn [X, labels], y"
      ],
      "metadata": {
        "id": "rhrVvsWmw4Hg"
      },
      "execution_count": null,
      "outputs": []
    },
    {
      "cell_type": "code",
      "source": [
        "# generate latent points, to be used as inputs to the generator.\n",
        "def generate_latent_points(latent_dim, n_samples):\n",
        "\tz_input = randn(latent_dim * n_samples)\n",
        "\tz_input = z_input.reshape(n_samples, latent_dim) # reshape for input to the network\n",
        "\treturn z_input"
      ],
      "metadata": {
        "id": "L9Exw3sVw7L5"
      },
      "execution_count": null,
      "outputs": []
    },
    {
      "cell_type": "code",
      "source": [
        "# Generate fake images using the generator and above latent points as input to it.\n",
        "def generate_fake_samples(generator, latent_dim, n_samples):\n",
        "\n",
        "\tz_input = generate_latent_points(latent_dim, n_samples)\n",
        "\tfake_images = generator.predict(z_input)\n",
        "\t# create class labels\n",
        "\ty = zeros((n_samples, 1)) #Label all images as 0 as these are fake images. (for the discriminator training)\n",
        "\treturn fake_images, y"
      ],
      "metadata": {
        "id": "Vdd7JG8bw8c9"
      },
      "execution_count": null,
      "outputs": []
    },
    {
      "cell_type": "code",
      "source": [
        "# report accuracy and save plots & the model periodically.\n",
        "def summarize_performance(step, gen_model, disc_sup, latent_dim, dataset, n_samples=100):\n",
        "\t# Generate fake images\n",
        "\tX, _ = generate_fake_samples(gen_model, latent_dim, n_samples)\n",
        "\n",
        "\tX = (X + 1) / 2.0 # scale to [0,1] for plotting\n",
        "\t# plot images\n",
        "\tfor i in range(100):\n",
        "\t\tplt.subplot(10, 10, 1 + i)\n",
        "\t\tplt.axis('off')\n",
        "\t\tplt.imshow(X[i, :, :, 0], cmap='gray_r')\n",
        "\t# save plot to drive\n",
        "\tfilename1 = 'generated_plot_%04d.png' % (step+1)\n",
        "\tplt.savefig(filename1)\n",
        "\tplt.close()\n",
        "\n",
        "\t# evaluate the discriminator\n",
        "\n",
        "\tX, y = dataset\n",
        "\t_, acc = disc_sup.evaluate(X, y, verbose=0)\n",
        "\tprint('Discriminator Accuracy: %.3f%%' % (acc * 100))\n",
        "\t# save the generator model\n",
        "\tfilename2 = 'gen_model_%04d.h5' % (step+1)\n",
        "\tgen_model.save(filename2)\n",
        "\t# save the Discriminator (classifier) model\n",
        "\tfilename3 = 'disc_sup_%04d.h5' % (step+1)\n",
        "\tdisc_sup.save(filename3)\n",
        "\tprint('>Saved: %s, %s, and %s' % (filename1, filename2, filename3))"
      ],
      "metadata": {
        "id": "8kKPXOnBw_IR"
      },
      "execution_count": null,
      "outputs": []
    },
    {
      "cell_type": "code",
      "source": [
        "# train the generator and discriminator\n",
        "def train(gen_model, disc_unsup, disc_sup, gan_model, dataset, latent_dim, n_epochs=20, n_batch=60):\n",
        "\n",
        "    # select supervised dataset for training.\n",
        "    #Remember that we are not using all 60k images, just a subset (100 images, 10 per class. )\n",
        "\tX_sup, y_sup = select_supervised_samples(dataset)\n",
        "\t#print(X_sup.shape, y_sup.shape)\n",
        "\n",
        "\tbat_per_epo = int(dataset[0].shape[0] / n_batch)\n",
        "\t# iterations\n",
        "\tn_steps = bat_per_epo * n_epochs\n",
        "\n",
        "\thalf_batch = int(n_batch / 2)\n",
        "\tprint('n_epochs=%d, n_batch=%d, 1/2=%d, b/e=%d, steps=%d' % (n_epochs,\n",
        "                                                              n_batch, half_batch,\n",
        "                                                              bat_per_epo, n_steps))\n",
        "\t #  enumerate epochs\n",
        "\tfor i in range(n_steps):\n",
        "\t\t\t\t# update supervised discriminator (disc_sup) on real samples.\n",
        "        # we use real labels to train as this is supervised.\n",
        "\t\t\t[Xsup_real, ysup_real], _ = generate_real_samples([X_sup, y_sup], half_batch)\n",
        "\t\t\tsup_loss, sup_acc = disc_sup.train_on_batch(Xsup_real, ysup_real)\n",
        "\t\t\t\t\t# update unsupervised discriminator (disc_unsup) - just like in our regular GAN.\n",
        "\t\t\t\t\t# we will not train on labels as this is unsupervised, just binary as in our regular GAN.\n",
        "\t\t\t\t\t#The y_real below indicates 1s telling the discriminator that these images are real.\n",
        "\t\t\t[X_real, _], y_real = generate_real_samples(dataset, half_batch)\n",
        "\t\t\td_loss_real = disc_unsup.train_on_batch(X_real, y_real)\n",
        "\t\t\t\t\t#Now train on fake.\n",
        "\t\t\tX_fake, y_fake = generate_fake_samples(gen_model, latent_dim, half_batch)\n",
        "\t\t\td_loss_fake = disc_unsup.train_on_batch(X_fake, y_fake)\n",
        "\t\t\t\t\t# update generator (gen) - like we do in regular GAN.\n",
        "\t\t\tX_gan, y_gan = generate_latent_points(latent_dim, n_batch), ones((n_batch, 1))\n",
        "\t\t\tgan_loss = gan_model.train_on_batch(X_gan, y_gan)\n",
        "\n",
        "\t\t\t# summarize loss on this batch\n",
        "\t\t\tprint('>%d, c[%.3f,%.0f], d[%.3f,%.3f], g[%.3f]' % (i+1, sup_loss, sup_acc*100, d_loss_real, d_loss_fake, gan_loss))\n",
        "\t\t\t# evaluate the model performance periodically\n",
        "\t\t\tif (i+1) % (bat_per_epo * 1) == 0:\n",
        "\t\t\t\tsummarize_performance(i, gen_model, disc_sup, latent_dim, dataset)"
      ],
      "metadata": {
        "id": "IT9zOQJgxF9T"
      },
      "execution_count": null,
      "outputs": []
    },
    {
      "cell_type": "code",
      "source": [
        "# TRAIN\n",
        "latent_dim = 100\n",
        "\n",
        "# create the discriminator models\n",
        "disc=define_discriminator()\n",
        "disc_sup=define_sup_discriminator(disc) #Supervised discriminator model\n",
        "disc_unsup=define_unsup_discriminator(disc) #Unsupervised discriminator model.\n",
        "\n",
        "gen_model = define_generator(latent_dim) #Generator\n",
        "gan_model = define_gan(gen_model, disc_unsup) #GAN\n",
        "dataset = load_real_samples() #Define the dataset by loading real samples. (This will be a list of 2 numpy arrays, X and y)\n",
        "\n",
        "# train the model\n",
        "\n",
        "train(gen_model, disc_unsup, disc_sup, gan_model, dataset, latent_dim, n_epochs=20, n_batch=60)\n"
      ],
      "metadata": {
        "id": "JxjgPWuDxNqP",
        "colab": {
          "base_uri": "https://localhost:8080/"
        },
        "outputId": "61a39829-c661-414c-8180-ffa0276b8835"
      },
      "execution_count": null,
      "outputs": [
        {
          "output_type": "stream",
          "name": "stderr",
          "text": [
            "/usr/local/lib/python3.7/dist-packages/keras/optimizer_v2/adam.py:105: UserWarning: The `lr` argument is deprecated, use `learning_rate` instead.\n",
            "  super(Adam, self).__init__(name, **kwargs)\n"
          ]
        },
        {
          "output_type": "stream",
          "name": "stdout",
          "text": [
            "(1384, 384, 384, 3) (1384,)\n",
            "n_epochs=20, n_batch=60, 1/2=30, b/e=23, steps=460\n",
            ">1, c[1.393,17], d[0.152,1.620], g[0.223]\n",
            ">2, c[2.180,27], d[0.007,1.602], g[0.229]\n",
            ">3, c[2.500,33], d[0.004,1.563], g[0.246]\n",
            ">4, c[1.876,27], d[0.002,1.479], g[0.284]\n",
            ">5, c[1.515,30], d[0.001,1.320], g[0.367]\n",
            ">6, c[1.616,27], d[0.001,1.074], g[0.538]\n",
            ">7, c[1.346,50], d[0.001,0.774], g[0.843]\n",
            ">8, c[1.346,30], d[0.001,0.468], g[1.343]\n",
            ">9, c[1.339,33], d[0.001,0.238], g[1.971]\n",
            ">10, c[1.273,47], d[0.002,0.107], g[2.700]\n",
            ">11, c[1.306,30], d[0.000,0.069], g[3.069]\n",
            ">12, c[1.272,27], d[0.000,0.056], g[3.297]\n",
            ">13, c[1.345,33], d[0.000,0.032], g[3.802]\n",
            ">14, c[1.533,17], d[0.001,0.030], g[4.195]\n",
            ">15, c[1.193,57], d[0.000,0.020], g[4.510]\n",
            ">16, c[1.226,40], d[0.002,0.011], g[5.053]\n",
            ">17, c[1.380,57], d[0.000,0.006], g[5.390]\n",
            ">18, c[1.452,47], d[0.000,0.006], g[5.514]\n",
            ">19, c[1.244,47], d[0.000,0.007], g[5.438]\n",
            ">20, c[1.301,43], d[0.000,0.006], g[5.651]\n",
            ">21, c[1.290,40], d[0.001,0.004], g[5.978]\n",
            ">22, c[1.437,40], d[0.001,0.003], g[6.066]\n",
            ">23, c[1.400,23], d[0.000,0.003], g[6.052]\n",
            "Discriminator Accuracy: 46.026%\n",
            "WARNING:tensorflow:Compiled the loaded model, but the compiled metrics have yet to be built. `model.compile_metrics` will be empty until you train or evaluate the model.\n",
            ">Saved: generated_plot_0023.png, gen_model_0023.h5, and disc_sup_0023.h5\n",
            ">24, c[1.358,37], d[0.000,0.005], g[5.842]\n",
            ">25, c[1.332,37], d[0.000,0.007], g[5.818]\n",
            ">26, c[1.538,50], d[0.005,0.005], g[5.995]\n",
            ">27, c[2.409,30], d[0.000,0.003], g[6.277]\n",
            ">28, c[1.533,27], d[0.000,0.005], g[6.438]\n",
            ">29, c[1.675,37], d[0.002,0.004], g[6.733]\n",
            ">30, c[1.208,47], d[0.001,0.005], g[7.200]\n",
            ">31, c[1.333,43], d[0.000,0.003], g[7.498]\n",
            ">32, c[1.171,57], d[0.000,0.003], g[7.759]\n",
            ">33, c[1.273,30], d[0.000,0.002], g[7.899]\n",
            ">34, c[1.067,57], d[0.000,0.006], g[9.182]\n",
            ">35, c[1.262,37], d[0.000,0.000], g[9.220]\n",
            ">36, c[1.166,50], d[0.000,0.002], g[8.337]\n",
            ">37, c[1.116,50], d[0.000,0.001], g[8.370]\n",
            ">38, c[1.088,53], d[0.000,0.001], g[8.618]\n",
            ">39, c[1.078,60], d[0.000,0.003], g[10.383]\n",
            ">40, c[1.090,57], d[0.000,0.000], g[10.196]\n",
            ">41, c[1.044,57], d[0.000,0.000], g[8.830]\n",
            ">42, c[0.902,70], d[0.000,0.002], g[10.191]\n",
            ">43, c[1.078,40], d[0.000,0.000], g[10.816]\n",
            ">44, c[0.924,63], d[0.000,0.000], g[9.124]\n",
            ">45, c[1.007,53], d[0.000,0.003], g[11.614]\n",
            ">46, c[1.005,57], d[0.000,0.000], g[12.740]\n",
            "Discriminator Accuracy: 31.286%\n",
            "WARNING:tensorflow:Compiled the loaded model, but the compiled metrics have yet to be built. `model.compile_metrics` will be empty until you train or evaluate the model.\n",
            ">Saved: generated_plot_0046.png, gen_model_0046.h5, and disc_sup_0046.h5\n",
            ">47, c[1.136,47], d[0.000,0.000], g[10.517]\n",
            ">48, c[1.076,53], d[0.000,0.001], g[9.181]\n",
            ">49, c[1.205,43], d[0.000,0.001], g[10.455]\n",
            ">50, c[1.099,43], d[0.001,0.000], g[10.035]\n",
            ">51, c[0.984,67], d[0.000,0.000], g[9.736]\n",
            ">52, c[1.253,47], d[0.000,0.000], g[9.964]\n",
            ">53, c[1.094,40], d[0.000,0.000], g[9.850]\n",
            ">54, c[1.086,43], d[0.000,0.000], g[9.941]\n",
            ">55, c[0.897,63], d[0.000,0.000], g[10.591]\n",
            ">56, c[0.888,57], d[0.000,0.000], g[10.147]\n",
            ">57, c[0.860,70], d[0.000,0.001], g[12.976]\n",
            ">58, c[1.095,43], d[0.000,0.000], g[11.747]\n",
            ">59, c[0.881,60], d[0.000,0.001], g[12.829]\n",
            ">60, c[0.950,50], d[0.002,0.002], g[11.021]\n",
            ">61, c[1.361,40], d[0.000,0.000], g[9.995]\n",
            ">62, c[1.067,47], d[0.000,0.001], g[11.004]\n",
            ">63, c[1.294,43], d[0.001,0.001], g[10.014]\n",
            ">64, c[0.845,63], d[0.003,0.257], g[15.425]\n",
            ">65, c[2.196,27], d[0.003,0.000], g[15.425]\n",
            ">66, c[1.872,47], d[0.002,0.000], g[15.425]\n",
            ">67, c[1.390,27], d[0.000,0.000], g[15.425]\n",
            ">68, c[0.930,60], d[0.000,0.000], g[15.425]\n",
            ">69, c[0.975,60], d[0.000,0.000], g[15.425]\n",
            "Discriminator Accuracy: 38.873%\n",
            "WARNING:tensorflow:Compiled the loaded model, but the compiled metrics have yet to be built. `model.compile_metrics` will be empty until you train or evaluate the model.\n",
            ">Saved: generated_plot_0069.png, gen_model_0069.h5, and disc_sup_0069.h5\n",
            ">70, c[1.105,53], d[0.000,0.000], g[15.425]\n",
            ">71, c[1.069,50], d[0.000,0.000], g[15.425]\n",
            ">72, c[0.953,57], d[0.000,0.000], g[15.425]\n",
            ">73, c[1.061,53], d[0.000,0.000], g[15.425]\n",
            ">74, c[1.144,43], d[0.000,0.000], g[15.425]\n",
            ">75, c[0.820,63], d[0.000,0.000], g[15.425]\n",
            ">76, c[1.291,43], d[0.000,0.000], g[15.425]\n",
            ">77, c[0.993,57], d[0.000,0.000], g[15.425]\n",
            ">78, c[0.957,50], d[0.000,0.000], g[15.425]\n",
            ">79, c[0.736,73], d[0.000,0.000], g[15.425]\n",
            ">80, c[1.103,50], d[0.000,0.000], g[15.425]\n",
            ">81, c[0.986,47], d[0.000,0.000], g[15.425]\n",
            ">82, c[0.907,63], d[0.000,0.000], g[15.425]\n",
            ">83, c[1.038,47], d[0.000,0.000], g[15.425]\n",
            ">84, c[0.978,43], d[0.000,0.000], g[15.425]\n",
            ">85, c[1.006,53], d[0.000,0.000], g[15.425]\n",
            ">86, c[0.888,60], d[0.000,0.000], g[15.425]\n",
            ">87, c[0.797,63], d[0.000,0.000], g[15.425]\n",
            ">88, c[0.747,70], d[0.000,0.000], g[15.425]\n",
            ">89, c[1.235,33], d[0.000,0.000], g[15.425]\n",
            ">90, c[0.925,57], d[0.000,0.000], g[15.425]\n",
            ">91, c[0.917,67], d[0.000,0.000], g[15.425]\n",
            ">92, c[0.623,73], d[0.000,0.000], g[15.425]\n",
            "Discriminator Accuracy: 33.309%\n",
            "WARNING:tensorflow:Compiled the loaded model, but the compiled metrics have yet to be built. `model.compile_metrics` will be empty until you train or evaluate the model.\n",
            ">Saved: generated_plot_0092.png, gen_model_0092.h5, and disc_sup_0092.h5\n",
            ">93, c[0.672,70], d[0.000,0.000], g[15.425]\n",
            ">94, c[1.057,57], d[0.000,0.000], g[15.425]\n",
            ">95, c[1.006,53], d[0.000,0.000], g[15.425]\n",
            ">96, c[0.783,57], d[0.001,0.000], g[15.425]\n",
            ">97, c[1.022,47], d[0.000,0.000], g[15.425]\n",
            ">98, c[0.893,50], d[0.000,0.000], g[15.425]\n",
            ">99, c[1.027,50], d[0.000,0.000], g[15.425]\n",
            ">100, c[0.947,53], d[0.000,0.000], g[15.425]\n",
            ">101, c[0.923,47], d[0.000,0.000], g[15.425]\n",
            ">102, c[0.925,53], d[0.000,0.000], g[15.425]\n",
            ">103, c[0.918,53], d[0.000,0.000], g[15.425]\n",
            ">104, c[0.905,57], d[0.000,0.000], g[15.425]\n",
            ">105, c[0.844,53], d[0.000,0.000], g[15.425]\n",
            ">106, c[0.943,50], d[0.000,0.000], g[15.425]\n",
            ">107, c[0.732,60], d[0.000,0.000], g[15.425]\n",
            ">108, c[0.897,53], d[0.000,0.000], g[15.425]\n",
            ">109, c[0.695,67], d[0.000,0.000], g[15.425]\n",
            ">110, c[0.844,57], d[0.000,0.000], g[15.425]\n",
            ">111, c[0.906,53], d[0.000,0.000], g[15.425]\n",
            ">112, c[0.877,60], d[0.000,0.000], g[15.425]\n",
            ">113, c[0.842,63], d[0.000,0.000], g[15.425]\n",
            ">114, c[0.759,67], d[0.000,0.000], g[15.425]\n",
            ">115, c[0.900,60], d[0.000,0.000], g[15.425]\n",
            "Discriminator Accuracy: 44.364%\n",
            "WARNING:tensorflow:Compiled the loaded model, but the compiled metrics have yet to be built. `model.compile_metrics` will be empty until you train or evaluate the model.\n",
            ">Saved: generated_plot_0115.png, gen_model_0115.h5, and disc_sup_0115.h5\n",
            ">116, c[0.722,63], d[0.000,0.000], g[15.425]\n",
            ">117, c[0.634,70], d[0.000,0.000], g[15.425]\n",
            ">118, c[0.817,67], d[0.000,0.000], g[15.425]\n",
            ">119, c[0.780,67], d[0.000,0.000], g[15.425]\n",
            ">120, c[0.754,70], d[0.000,0.000], g[15.425]\n",
            ">121, c[1.001,60], d[0.000,0.000], g[15.425]\n",
            ">122, c[0.825,57], d[0.000,0.000], g[15.425]\n",
            ">123, c[0.815,57], d[0.000,0.000], g[15.425]\n",
            ">124, c[0.756,70], d[0.000,0.000], g[15.425]\n",
            ">125, c[0.997,50], d[0.000,0.000], g[15.425]\n",
            ">126, c[0.514,83], d[0.000,0.000], g[15.425]\n",
            ">127, c[1.078,50], d[0.000,0.000], g[15.425]\n",
            ">128, c[0.662,73], d[0.000,0.000], g[15.425]\n",
            ">129, c[0.827,67], d[0.000,0.000], g[15.425]\n",
            ">130, c[0.812,63], d[0.000,0.000], g[15.425]\n",
            ">131, c[0.823,63], d[0.000,0.000], g[15.425]\n",
            ">132, c[1.116,37], d[0.000,0.000], g[15.425]\n",
            ">133, c[0.768,80], d[0.000,0.000], g[15.425]\n",
            ">134, c[0.751,67], d[0.000,0.000], g[15.425]\n",
            ">135, c[0.971,37], d[0.000,0.000], g[15.425]\n",
            ">136, c[1.124,53], d[0.000,0.000], g[15.425]\n",
            ">137, c[1.055,40], d[0.000,0.000], g[15.425]\n",
            ">138, c[0.914,47], d[0.000,0.000], g[15.425]\n",
            "Discriminator Accuracy: 50.361%\n",
            "WARNING:tensorflow:Compiled the loaded model, but the compiled metrics have yet to be built. `model.compile_metrics` will be empty until you train or evaluate the model.\n",
            ">Saved: generated_plot_0138.png, gen_model_0138.h5, and disc_sup_0138.h5\n",
            ">139, c[0.808,77], d[0.000,0.000], g[15.425]\n",
            ">140, c[0.824,70], d[0.000,0.000], g[15.425]\n",
            ">141, c[0.694,63], d[0.000,0.000], g[15.425]\n",
            ">142, c[0.945,50], d[0.000,0.000], g[15.425]\n",
            ">143, c[0.866,60], d[0.000,0.000], g[15.425]\n",
            ">144, c[0.768,63], d[0.000,0.000], g[15.425]\n",
            ">145, c[0.806,60], d[0.000,0.000], g[15.425]\n",
            ">146, c[1.297,50], d[0.000,0.000], g[15.425]\n",
            ">147, c[1.144,47], d[0.000,0.000], g[15.425]\n",
            ">148, c[0.891,50], d[0.000,0.000], g[15.425]\n",
            ">149, c[0.784,63], d[0.000,0.000], g[15.425]\n",
            ">150, c[0.914,57], d[0.000,0.000], g[15.425]\n",
            ">151, c[0.847,57], d[0.000,0.000], g[15.425]\n",
            ">152, c[0.777,77], d[0.000,0.000], g[15.425]\n",
            ">153, c[0.734,80], d[0.000,0.000], g[15.425]\n",
            ">154, c[0.700,63], d[0.000,0.000], g[15.425]\n",
            ">155, c[0.908,53], d[0.000,0.000], g[15.425]\n",
            ">156, c[0.798,60], d[0.000,0.000], g[15.425]\n",
            ">157, c[0.895,50], d[0.000,0.000], g[15.425]\n",
            ">158, c[0.782,67], d[0.000,0.000], g[15.425]\n",
            ">159, c[0.875,50], d[0.000,0.000], g[15.425]\n",
            ">160, c[0.870,50], d[0.000,0.000], g[15.425]\n",
            ">161, c[0.970,63], d[0.000,0.000], g[15.425]\n",
            "Discriminator Accuracy: 40.462%\n",
            "WARNING:tensorflow:Compiled the loaded model, but the compiled metrics have yet to be built. `model.compile_metrics` will be empty until you train or evaluate the model.\n",
            ">Saved: generated_plot_0161.png, gen_model_0161.h5, and disc_sup_0161.h5\n",
            ">162, c[0.669,63], d[0.000,0.000], g[15.425]\n",
            ">163, c[0.970,53], d[0.000,0.000], g[15.425]\n",
            ">164, c[0.982,50], d[0.000,0.000], g[15.425]\n",
            ">165, c[0.789,70], d[0.000,0.000], g[15.425]\n",
            ">166, c[0.771,63], d[0.000,0.000], g[15.425]\n",
            ">167, c[0.929,63], d[0.000,0.000], g[15.425]\n",
            ">168, c[0.620,77], d[0.000,0.000], g[15.425]\n",
            ">169, c[0.777,63], d[0.000,0.000], g[15.425]\n",
            ">170, c[1.018,53], d[0.000,0.000], g[15.425]\n",
            ">171, c[0.782,63], d[0.000,0.000], g[15.425]\n",
            ">172, c[1.369,40], d[0.000,0.000], g[15.425]\n",
            ">173, c[0.424,80], d[0.000,0.000], g[15.425]\n",
            ">174, c[1.304,40], d[0.002,0.000], g[15.425]\n",
            ">175, c[0.911,57], d[0.000,0.000], g[15.425]\n",
            ">176, c[1.168,40], d[0.000,0.000], g[15.425]\n",
            ">177, c[1.089,50], d[0.000,0.000], g[15.425]\n",
            ">178, c[0.807,60], d[0.000,0.000], g[15.425]\n",
            ">179, c[0.895,63], d[0.000,0.000], g[15.425]\n",
            ">180, c[0.877,67], d[0.000,0.000], g[15.425]\n",
            ">181, c[0.752,57], d[0.000,0.000], g[15.425]\n",
            ">182, c[0.680,73], d[0.000,0.000], g[15.425]\n",
            ">183, c[0.565,87], d[0.000,0.000], g[15.425]\n",
            ">184, c[0.766,67], d[0.000,0.000], g[15.425]\n",
            "Discriminator Accuracy: 34.682%\n",
            "WARNING:tensorflow:Compiled the loaded model, but the compiled metrics have yet to be built. `model.compile_metrics` will be empty until you train or evaluate the model.\n",
            ">Saved: generated_plot_0184.png, gen_model_0184.h5, and disc_sup_0184.h5\n",
            ">185, c[0.612,80], d[0.000,0.000], g[15.425]\n",
            ">186, c[0.669,63], d[0.000,0.000], g[15.425]\n",
            ">187, c[0.773,70], d[0.000,0.000], g[15.425]\n",
            ">188, c[0.838,60], d[0.000,0.000], g[15.425]\n",
            ">189, c[0.818,53], d[0.000,0.000], g[15.425]\n",
            ">190, c[0.783,67], d[0.000,0.000], g[15.425]\n",
            ">191, c[0.946,50], d[0.000,0.000], g[15.425]\n",
            ">192, c[0.663,83], d[0.000,0.000], g[15.425]\n",
            ">193, c[0.757,57], d[0.000,0.000], g[15.425]\n",
            ">194, c[0.842,50], d[0.000,0.000], g[15.425]\n",
            ">195, c[0.799,67], d[0.000,0.000], g[15.425]\n",
            ">196, c[0.707,63], d[0.000,0.000], g[15.425]\n",
            ">197, c[0.776,60], d[0.000,0.000], g[15.425]\n",
            ">198, c[0.801,67], d[0.000,0.000], g[15.425]\n",
            ">199, c[0.623,90], d[0.000,0.000], g[15.425]\n",
            ">200, c[0.801,70], d[0.000,0.000], g[15.425]\n",
            ">201, c[0.918,67], d[0.000,0.000], g[15.425]\n",
            ">202, c[0.773,63], d[0.000,0.000], g[15.425]\n",
            ">203, c[0.768,60], d[0.000,0.000], g[15.425]\n",
            ">204, c[0.839,53], d[0.000,0.000], g[15.425]\n",
            ">205, c[0.865,53], d[0.000,0.000], g[15.425]\n",
            ">206, c[0.601,77], d[0.000,0.000], g[15.425]\n",
            ">207, c[0.642,70], d[0.000,0.000], g[15.425]\n",
            "Discriminator Accuracy: 54.769%\n",
            "WARNING:tensorflow:Compiled the loaded model, but the compiled metrics have yet to be built. `model.compile_metrics` will be empty until you train or evaluate the model.\n",
            ">Saved: generated_plot_0207.png, gen_model_0207.h5, and disc_sup_0207.h5\n",
            ">208, c[0.631,70], d[0.000,0.000], g[15.425]\n",
            ">209, c[0.660,77], d[0.000,0.000], g[15.425]\n",
            ">210, c[0.640,67], d[0.000,0.000], g[15.425]\n",
            ">211, c[0.692,70], d[0.000,0.000], g[15.425]\n",
            ">212, c[0.616,67], d[0.000,0.000], g[15.425]\n",
            ">213, c[1.017,47], d[0.000,0.000], g[15.425]\n",
            ">214, c[0.548,80], d[0.000,0.000], g[15.425]\n",
            ">215, c[0.664,70], d[0.000,0.000], g[15.425]\n",
            ">216, c[0.888,60], d[0.000,0.000], g[15.425]\n",
            ">217, c[0.815,53], d[0.000,0.000], g[15.425]\n",
            ">218, c[0.749,70], d[0.000,0.000], g[15.425]\n",
            ">219, c[0.614,73], d[0.000,0.000], g[15.425]\n",
            ">220, c[0.757,53], d[0.000,0.000], g[15.425]\n",
            ">221, c[0.964,50], d[0.000,0.000], g[15.425]\n",
            ">222, c[0.906,53], d[0.000,0.000], g[15.425]\n",
            ">223, c[0.931,50], d[0.000,0.000], g[15.425]\n",
            ">224, c[0.824,47], d[0.000,0.000], g[15.425]\n",
            ">225, c[1.281,50], d[0.000,0.000], g[15.425]\n",
            ">226, c[0.973,43], d[0.000,0.000], g[15.425]\n",
            ">227, c[0.874,47], d[0.000,0.000], g[15.425]\n",
            ">228, c[0.770,67], d[0.000,0.000], g[15.425]\n",
            ">229, c[0.737,67], d[0.000,0.000], g[15.425]\n",
            ">230, c[0.885,50], d[0.000,0.000], g[15.425]\n",
            "Discriminator Accuracy: 56.142%\n",
            "WARNING:tensorflow:Compiled the loaded model, but the compiled metrics have yet to be built. `model.compile_metrics` will be empty until you train or evaluate the model.\n",
            ">Saved: generated_plot_0230.png, gen_model_0230.h5, and disc_sup_0230.h5\n",
            ">231, c[0.724,70], d[0.000,0.000], g[15.425]\n",
            ">232, c[0.710,63], d[0.000,0.000], g[15.425]\n",
            ">233, c[0.906,50], d[0.000,0.000], g[15.425]\n",
            ">234, c[0.671,67], d[0.000,0.000], g[15.425]\n",
            ">235, c[0.807,60], d[0.000,0.000], g[15.425]\n",
            ">236, c[0.687,80], d[0.000,0.000], g[15.425]\n",
            ">237, c[0.920,57], d[0.000,0.000], g[15.425]\n",
            ">238, c[0.626,73], d[0.000,0.000], g[15.425]\n",
            ">239, c[0.540,83], d[0.000,0.000], g[15.425]\n",
            ">240, c[0.683,67], d[0.000,0.000], g[15.425]\n",
            ">241, c[0.733,67], d[0.000,0.000], g[15.425]\n",
            ">242, c[0.731,70], d[0.000,0.000], g[15.425]\n",
            ">243, c[0.665,77], d[0.000,0.000], g[15.425]\n",
            ">244, c[0.657,63], d[0.000,0.000], g[15.425]\n",
            ">245, c[0.686,63], d[0.000,0.000], g[15.425]\n",
            ">246, c[0.834,57], d[0.000,0.000], g[15.425]\n",
            ">247, c[0.872,53], d[0.000,0.000], g[15.425]\n",
            ">248, c[0.621,73], d[0.000,0.000], g[15.425]\n",
            ">249, c[0.690,63], d[0.000,0.000], g[15.425]\n",
            ">250, c[0.874,70], d[0.000,0.000], g[15.425]\n",
            ">251, c[0.632,70], d[0.000,0.000], g[15.425]\n",
            ">252, c[0.694,80], d[0.000,0.000], g[15.425]\n",
            ">253, c[0.532,80], d[0.000,0.000], g[15.425]\n",
            "Discriminator Accuracy: 42.847%\n",
            "WARNING:tensorflow:Compiled the loaded model, but the compiled metrics have yet to be built. `model.compile_metrics` will be empty until you train or evaluate the model.\n",
            ">Saved: generated_plot_0253.png, gen_model_0253.h5, and disc_sup_0253.h5\n",
            ">254, c[0.891,53], d[0.000,0.000], g[15.425]\n",
            ">255, c[0.556,77], d[0.000,0.000], g[15.425]\n",
            ">256, c[0.739,57], d[0.000,0.000], g[15.425]\n",
            ">257, c[0.459,77], d[0.000,0.000], g[15.425]\n",
            ">258, c[0.827,50], d[0.000,0.000], g[15.425]\n",
            ">259, c[0.517,77], d[0.000,0.000], g[15.425]\n",
            ">260, c[0.654,67], d[0.000,0.000], g[15.425]\n",
            ">261, c[0.639,63], d[0.000,0.000], g[15.425]\n",
            ">262, c[0.665,60], d[0.000,0.000], g[15.425]\n",
            ">263, c[0.649,70], d[0.000,0.000], g[15.425]\n",
            ">264, c[0.547,70], d[0.000,0.000], g[15.425]\n",
            ">265, c[0.481,80], d[0.000,0.000], g[15.425]\n",
            ">266, c[0.389,87], d[0.000,0.000], g[15.425]\n",
            ">267, c[0.562,77], d[0.000,0.000], g[15.425]\n",
            ">268, c[0.710,70], d[0.000,0.000], g[15.425]\n",
            ">269, c[0.761,60], d[0.000,0.000], g[15.425]\n",
            ">270, c[0.750,63], d[0.000,0.000], g[15.425]\n",
            ">271, c[0.590,77], d[0.000,0.000], g[15.425]\n",
            ">272, c[0.562,73], d[0.000,0.000], g[15.425]\n",
            ">273, c[0.581,77], d[0.000,0.000], g[15.425]\n",
            ">274, c[0.610,70], d[0.000,0.000], g[15.425]\n",
            ">275, c[0.777,70], d[0.000,0.000], g[15.425]\n",
            ">276, c[0.650,77], d[0.000,0.000], g[15.425]\n",
            "Discriminator Accuracy: 48.410%\n",
            "WARNING:tensorflow:Compiled the loaded model, but the compiled metrics have yet to be built. `model.compile_metrics` will be empty until you train or evaluate the model.\n",
            ">Saved: generated_plot_0276.png, gen_model_0276.h5, and disc_sup_0276.h5\n",
            ">277, c[0.600,70], d[0.000,0.000], g[15.425]\n",
            ">278, c[1.042,60], d[0.000,0.000], g[15.425]\n",
            ">279, c[0.725,70], d[0.000,0.000], g[15.425]\n",
            ">280, c[0.699,63], d[0.000,0.000], g[15.425]\n",
            ">281, c[0.495,80], d[0.000,0.000], g[15.425]\n",
            ">282, c[0.544,83], d[0.000,0.000], g[15.425]\n",
            ">283, c[0.547,90], d[0.000,0.000], g[15.425]\n",
            ">284, c[0.602,70], d[0.000,0.000], g[15.425]\n",
            ">285, c[0.712,53], d[0.000,0.000], g[15.425]\n",
            ">286, c[0.738,60], d[0.000,0.000], g[15.425]\n",
            ">287, c[0.653,63], d[0.000,0.000], g[15.425]\n",
            ">288, c[0.572,87], d[0.000,0.000], g[15.425]\n",
            ">289, c[0.756,60], d[0.000,0.000], g[15.425]\n",
            ">290, c[0.607,70], d[0.000,0.000], g[15.425]\n",
            ">291, c[0.682,60], d[0.000,0.000], g[15.425]\n",
            ">292, c[0.740,63], d[0.000,0.000], g[15.425]\n",
            ">293, c[0.798,63], d[0.000,0.000], g[15.425]\n",
            ">294, c[0.711,63], d[0.000,0.000], g[15.425]\n",
            ">295, c[0.549,73], d[0.000,0.000], g[15.425]\n",
            ">296, c[0.506,80], d[0.000,0.000], g[15.425]\n",
            ">297, c[0.718,60], d[0.000,0.000], g[15.425]\n",
            ">298, c[0.641,63], d[0.000,0.000], g[15.425]\n",
            ">299, c[0.719,67], d[0.000,0.000], g[15.425]\n",
            "Discriminator Accuracy: 49.061%\n",
            "WARNING:tensorflow:Compiled the loaded model, but the compiled metrics have yet to be built. `model.compile_metrics` will be empty until you train or evaluate the model.\n",
            ">Saved: generated_plot_0299.png, gen_model_0299.h5, and disc_sup_0299.h5\n",
            ">300, c[0.528,77], d[0.000,0.000], g[15.425]\n",
            ">301, c[0.538,73], d[0.000,0.000], g[15.425]\n",
            ">302, c[0.732,63], d[0.000,0.000], g[15.425]\n",
            ">303, c[0.483,83], d[0.000,0.000], g[15.425]\n",
            ">304, c[0.629,63], d[0.000,0.000], g[15.425]\n",
            ">305, c[0.653,60], d[0.000,0.000], g[15.425]\n",
            ">306, c[0.565,77], d[0.000,0.000], g[15.425]\n",
            ">307, c[0.888,60], d[0.000,0.000], g[15.425]\n",
            ">308, c[0.668,77], d[0.000,0.000], g[15.425]\n",
            ">309, c[0.747,67], d[0.000,0.000], g[15.425]\n",
            ">310, c[0.722,63], d[0.000,0.000], g[15.425]\n",
            ">311, c[0.711,67], d[0.000,0.000], g[15.425]\n",
            ">312, c[0.705,67], d[0.000,0.000], g[15.425]\n",
            ">313, c[0.601,70], d[0.000,0.000], g[15.425]\n",
            ">314, c[0.743,67], d[0.000,0.000], g[15.425]\n",
            ">315, c[1.238,43], d[0.000,0.000], g[15.425]\n",
            ">316, c[0.599,63], d[0.000,0.000], g[15.425]\n",
            ">317, c[0.916,53], d[0.000,0.000], g[15.425]\n",
            ">318, c[0.650,77], d[0.000,0.000], g[15.425]\n",
            ">319, c[0.601,70], d[0.000,0.000], g[15.425]\n",
            ">320, c[0.695,67], d[0.000,0.000], g[15.425]\n",
            ">321, c[0.683,63], d[0.000,0.000], g[15.425]\n",
            ">322, c[0.685,73], d[0.000,0.000], g[15.425]\n",
            "Discriminator Accuracy: 52.818%\n",
            "WARNING:tensorflow:Compiled the loaded model, but the compiled metrics have yet to be built. `model.compile_metrics` will be empty until you train or evaluate the model.\n",
            ">Saved: generated_plot_0322.png, gen_model_0322.h5, and disc_sup_0322.h5\n",
            ">323, c[0.648,73], d[0.000,0.000], g[15.425]\n",
            ">324, c[0.587,70], d[0.000,0.000], g[15.425]\n",
            ">325, c[0.859,53], d[0.000,0.000], g[15.425]\n",
            ">326, c[0.766,80], d[0.000,0.000], g[15.425]\n",
            ">327, c[0.737,60], d[0.000,0.000], g[15.425]\n",
            ">328, c[0.619,63], d[0.000,0.000], g[15.425]\n",
            ">329, c[0.521,80], d[0.000,0.000], g[15.425]\n",
            ">330, c[0.742,67], d[0.000,0.000], g[15.425]\n",
            ">331, c[0.617,83], d[0.000,0.000], g[15.425]\n",
            ">332, c[0.474,87], d[0.000,0.000], g[15.425]\n",
            ">333, c[0.729,67], d[0.000,0.000], g[15.425]\n",
            ">334, c[0.587,70], d[0.000,0.000], g[15.425]\n",
            ">335, c[0.396,80], d[0.000,0.000], g[15.425]\n",
            ">336, c[0.667,70], d[0.000,0.000], g[15.425]\n",
            ">337, c[0.495,77], d[0.000,0.000], g[15.425]\n",
            ">338, c[0.594,73], d[0.000,0.000], g[15.425]\n",
            ">339, c[0.601,67], d[0.000,0.000], g[15.425]\n",
            ">340, c[0.498,90], d[0.000,0.000], g[15.425]\n",
            ">341, c[0.877,60], d[0.000,0.000], g[15.425]\n",
            ">342, c[0.720,67], d[0.000,0.000], g[15.425]\n",
            ">343, c[0.769,63], d[0.000,0.000], g[15.425]\n",
            ">344, c[0.555,80], d[0.000,0.000], g[15.425]\n",
            ">345, c[0.508,80], d[0.000,0.000], g[15.425]\n",
            "Discriminator Accuracy: 48.699%\n",
            "WARNING:tensorflow:Compiled the loaded model, but the compiled metrics have yet to be built. `model.compile_metrics` will be empty until you train or evaluate the model.\n",
            ">Saved: generated_plot_0345.png, gen_model_0345.h5, and disc_sup_0345.h5\n",
            ">346, c[0.884,57], d[0.000,0.000], g[15.425]\n",
            ">347, c[0.721,63], d[0.000,0.000], g[15.425]\n",
            ">348, c[0.745,60], d[0.000,0.000], g[15.425]\n",
            ">349, c[0.637,63], d[0.000,0.000], g[15.425]\n",
            ">350, c[0.584,77], d[0.000,0.000], g[15.425]\n",
            ">351, c[0.441,83], d[0.000,0.000], g[15.425]\n",
            ">352, c[0.594,77], d[0.000,0.000], g[15.425]\n",
            ">353, c[0.460,80], d[0.000,0.000], g[15.425]\n",
            ">354, c[0.670,73], d[0.000,0.000], g[15.425]\n",
            ">355, c[0.571,77], d[0.000,0.000], g[15.425]\n",
            ">356, c[0.548,83], d[0.000,0.000], g[15.425]\n",
            ">357, c[0.654,63], d[0.000,0.000], g[15.425]\n",
            ">358, c[0.618,60], d[0.000,0.000], g[15.425]\n",
            ">359, c[0.449,73], d[0.000,0.000], g[15.425]\n",
            ">360, c[0.426,87], d[0.000,0.000], g[15.425]\n",
            ">361, c[0.462,80], d[0.000,0.000], g[15.425]\n",
            ">362, c[0.491,77], d[0.000,0.000], g[15.425]\n",
            ">363, c[0.659,70], d[0.000,0.000], g[15.425]\n",
            ">364, c[0.653,60], d[0.000,0.000], g[15.425]\n",
            ">365, c[0.625,67], d[0.000,0.000], g[15.425]\n",
            ">366, c[0.761,57], d[0.000,0.000], g[15.425]\n",
            ">367, c[0.606,77], d[0.000,0.000], g[15.425]\n",
            ">368, c[0.304,90], d[0.000,0.000], g[15.425]\n",
            "Discriminator Accuracy: 46.893%\n",
            "WARNING:tensorflow:Compiled the loaded model, but the compiled metrics have yet to be built. `model.compile_metrics` will be empty until you train or evaluate the model.\n",
            ">Saved: generated_plot_0368.png, gen_model_0368.h5, and disc_sup_0368.h5\n",
            ">369, c[0.693,73], d[0.000,0.000], g[15.425]\n",
            ">370, c[0.490,87], d[0.000,0.000], g[15.425]\n",
            ">371, c[0.466,80], d[0.000,0.000], g[15.425]\n",
            ">372, c[0.644,73], d[0.000,0.000], g[15.425]\n",
            ">373, c[0.548,83], d[0.000,0.000], g[15.425]\n",
            ">374, c[0.546,73], d[0.000,0.000], g[15.425]\n",
            ">375, c[0.680,70], d[0.000,0.000], g[15.425]\n",
            ">376, c[0.717,63], d[0.000,0.000], g[15.425]\n",
            ">377, c[0.467,77], d[0.000,0.000], g[15.425]\n",
            ">378, c[0.516,90], d[0.000,0.000], g[15.425]\n",
            ">379, c[0.420,80], d[0.000,0.000], g[15.425]\n",
            ">380, c[0.637,63], d[0.000,0.000], g[15.425]\n",
            ">381, c[0.779,77], d[0.000,0.000], g[15.425]\n",
            ">382, c[0.771,63], d[0.000,0.000], g[15.425]\n",
            ">383, c[0.933,57], d[0.000,0.000], g[15.425]\n",
            ">384, c[0.606,80], d[0.000,0.000], g[15.425]\n",
            ">385, c[0.898,50], d[0.000,0.000], g[15.425]\n",
            ">386, c[0.414,87], d[0.000,0.000], g[15.425]\n",
            ">387, c[0.713,70], d[0.000,0.000], g[15.425]\n",
            ">388, c[0.651,70], d[0.000,0.000], g[15.425]\n",
            ">389, c[0.559,67], d[0.000,0.000], g[15.425]\n",
            ">390, c[0.511,80], d[0.000,0.000], g[15.425]\n",
            ">391, c[0.570,77], d[0.000,0.000], g[15.425]\n",
            "Discriminator Accuracy: 64.017%\n",
            "WARNING:tensorflow:Compiled the loaded model, but the compiled metrics have yet to be built. `model.compile_metrics` will be empty until you train or evaluate the model.\n",
            ">Saved: generated_plot_0391.png, gen_model_0391.h5, and disc_sup_0391.h5\n",
            ">392, c[0.627,63], d[0.000,0.000], g[15.425]\n",
            ">393, c[0.608,70], d[0.000,0.000], g[15.425]\n",
            ">394, c[0.533,80], d[0.000,0.000], g[15.425]\n",
            ">395, c[0.780,63], d[0.000,0.000], g[15.425]\n",
            ">396, c[0.855,70], d[0.000,0.000], g[15.425]\n",
            ">397, c[0.596,73], d[0.000,0.000], g[15.425]\n",
            ">398, c[0.714,60], d[0.000,0.000], g[15.425]\n",
            ">399, c[0.507,77], d[0.000,0.000], g[15.425]\n",
            ">400, c[0.621,73], d[0.000,0.000], g[15.425]\n",
            ">401, c[0.547,80], d[0.000,0.000], g[15.425]\n",
            ">402, c[0.653,70], d[0.000,0.000], g[15.425]\n",
            ">403, c[0.670,80], d[0.000,0.000], g[15.425]\n",
            ">404, c[0.479,90], d[0.000,0.000], g[15.425]\n",
            ">405, c[0.563,77], d[0.000,0.000], g[15.425]\n",
            ">406, c[0.479,80], d[0.000,0.000], g[15.425]\n",
            ">407, c[0.648,67], d[0.000,0.000], g[15.425]\n",
            ">408, c[0.666,80], d[0.000,0.000], g[15.425]\n",
            ">409, c[0.730,60], d[0.000,0.000], g[15.425]\n",
            ">410, c[0.414,77], d[0.000,0.000], g[15.425]\n",
            ">411, c[0.551,80], d[0.000,0.000], g[15.425]\n",
            ">412, c[0.532,77], d[0.000,0.000], g[15.425]\n",
            ">413, c[0.638,67], d[0.000,0.000], g[15.425]\n",
            ">414, c[0.615,77], d[0.000,0.000], g[15.425]\n",
            "Discriminator Accuracy: 55.708%\n",
            "WARNING:tensorflow:Compiled the loaded model, but the compiled metrics have yet to be built. `model.compile_metrics` will be empty until you train or evaluate the model.\n",
            ">Saved: generated_plot_0414.png, gen_model_0414.h5, and disc_sup_0414.h5\n",
            ">415, c[0.532,77], d[0.000,0.000], g[15.425]\n",
            ">416, c[0.478,77], d[0.000,0.000], g[15.425]\n",
            ">417, c[0.531,73], d[0.000,0.000], g[15.425]\n",
            ">418, c[0.574,67], d[0.000,0.000], g[15.425]\n",
            ">419, c[0.501,87], d[0.000,0.000], g[15.425]\n",
            ">420, c[0.605,70], d[0.000,0.000], g[15.425]\n",
            ">421, c[0.487,77], d[0.000,0.000], g[15.425]\n",
            ">422, c[0.566,70], d[0.000,0.000], g[15.425]\n",
            ">423, c[0.654,73], d[0.000,0.000], g[15.425]\n",
            ">424, c[0.486,77], d[0.000,0.000], g[15.425]\n",
            ">425, c[0.689,60], d[0.000,0.000], g[15.425]\n",
            ">426, c[0.534,70], d[0.000,0.000], g[15.425]\n",
            ">427, c[0.458,80], d[0.000,0.000], g[15.425]\n",
            ">428, c[0.731,63], d[0.000,0.000], g[15.425]\n",
            ">429, c[0.436,87], d[0.000,0.000], g[15.425]\n",
            ">430, c[0.776,63], d[0.000,0.000], g[15.425]\n",
            ">431, c[0.691,70], d[0.000,0.000], g[15.425]\n",
            ">432, c[0.516,77], d[0.000,0.000], g[15.425]\n",
            ">433, c[0.586,73], d[0.000,0.000], g[15.425]\n",
            ">434, c[0.532,77], d[0.000,0.000], g[15.425]\n",
            ">435, c[0.516,70], d[0.000,0.000], g[15.425]\n",
            ">436, c[0.437,77], d[0.000,0.000], g[15.425]\n",
            ">437, c[0.468,87], d[0.000,0.000], g[15.425]\n",
            "Discriminator Accuracy: 56.792%\n",
            "WARNING:tensorflow:Compiled the loaded model, but the compiled metrics have yet to be built. `model.compile_metrics` will be empty until you train or evaluate the model.\n",
            ">Saved: generated_plot_0437.png, gen_model_0437.h5, and disc_sup_0437.h5\n",
            ">438, c[0.641,57], d[0.000,0.000], g[15.425]\n",
            ">439, c[0.518,73], d[0.000,0.000], g[15.425]\n",
            ">440, c[0.521,77], d[0.000,0.000], g[15.425]\n",
            ">441, c[0.433,83], d[0.000,0.000], g[15.425]\n",
            ">442, c[0.557,77], d[0.000,0.000], g[15.425]\n",
            ">443, c[0.565,73], d[0.000,0.000], g[15.425]\n",
            ">444, c[0.480,77], d[0.000,0.000], g[15.425]\n",
            ">445, c[0.535,77], d[0.000,0.000], g[15.425]\n",
            ">446, c[0.544,73], d[0.000,0.000], g[15.425]\n",
            ">447, c[0.633,77], d[0.000,0.000], g[15.425]\n",
            ">448, c[0.547,70], d[0.000,0.000], g[15.425]\n",
            ">449, c[0.725,63], d[0.000,0.000], g[15.425]\n",
            ">450, c[0.612,70], d[0.000,0.000], g[15.425]\n",
            ">451, c[0.460,83], d[0.000,0.000], g[15.425]\n",
            ">452, c[0.494,80], d[0.000,0.000], g[15.425]\n",
            ">453, c[0.590,70], d[0.000,0.000], g[15.425]\n",
            ">454, c[0.500,70], d[0.000,0.000], g[15.425]\n",
            ">455, c[0.430,90], d[0.000,0.000], g[15.425]\n",
            ">456, c[0.449,80], d[0.000,0.000], g[15.425]\n",
            ">457, c[0.588,67], d[0.000,0.000], g[15.425]\n",
            ">458, c[0.468,87], d[0.000,0.000], g[15.425]\n",
            ">459, c[0.568,80], d[0.000,0.000], g[15.425]\n",
            ">460, c[0.490,83], d[0.000,0.000], g[15.425]\n",
            "Discriminator Accuracy: 52.673%\n",
            "WARNING:tensorflow:Compiled the loaded model, but the compiled metrics have yet to be built. `model.compile_metrics` will be empty until you train or evaluate the model.\n",
            ">Saved: generated_plot_0460.png, gen_model_0460.h5, and disc_sup_0460.h5\n"
          ]
        }
      ]
    },
    {
      "cell_type": "code",
      "source": [
        "#EVALUATE THE SUPERVISED DISCRIMINATOR ON TEST DATA\n",
        "# This is the model we want as a classifier.\n",
        "\n",
        "from keras.models import load_model\n",
        "# load the model\n",
        "disc_sup_trained_model = load_model('disc_sup_0391.h5')\n",
        "\n",
        "# load the dataset\n",
        "testX=xtest\n",
        "testy = ytest\n",
        "\n",
        "\n",
        "testX = expand_dims(testX, axis=-1)\n",
        "\n",
        "# convert from ints to floats\n",
        "testX = testX.astype('float32')\n",
        "\n",
        "# scale from [0,255] to [-1,1]\n",
        "testX = (testX - 127.5) / 127.5"
      ],
      "metadata": {
        "id": "s49SJs-_xPtZ",
        "colab": {
          "base_uri": "https://localhost:8080/"
        },
        "outputId": "2bd3cfc2-8fc5-492b-8e05-95256c003c35"
      },
      "execution_count": null,
      "outputs": [
        {
          "output_type": "stream",
          "name": "stdout",
          "text": [
            "WARNING:tensorflow:Error in loading the saved optimizer state. As a result, your model is starting with a freshly initialized optimizer.\n"
          ]
        }
      ]
    },
    {
      "cell_type": "code",
      "source": [
        "# evaluate the model\n",
        "_, test_acc = disc_sup_trained_model.evaluate(testX, testy, verbose=0)\n",
        "print('Test Accuracy: %.3f%%' % (test_acc * 100))\n",
        "\n",
        "# Predicting the Test set results\n",
        "y_pred_test = disc_sup_trained_model.predict(testX)\n",
        "prediction_test = np.argmax(y_pred_test, axis=1)\n",
        "\n",
        "# Confusion Matrix\n",
        "from sklearn.metrics import confusion_matrix\n",
        "import seaborn as sns\n",
        "cm = confusion_matrix(testy, prediction_test)\n",
        "sns.heatmap(cm, annot=True)\n"
      ],
      "metadata": {
        "id": "ofzYtah6xSHM",
        "colab": {
          "base_uri": "https://localhost:8080/",
          "height": 300
        },
        "outputId": "dbde6538-2d5e-4f08-fa73-6e1004c7b39e"
      },
      "execution_count": null,
      "outputs": [
        {
          "output_type": "stream",
          "name": "stdout",
          "text": [
            "Test Accuracy: 59.884%\n"
          ]
        },
        {
          "output_type": "execute_result",
          "data": {
            "text/plain": [
              "<matplotlib.axes._subplots.AxesSubplot at 0x7fc7a36837d0>"
            ]
          },
          "metadata": {},
          "execution_count": 29
        },
        {
          "output_type": "display_data",
          "data": {
            "text/plain": [
              "<Figure size 432x288 with 2 Axes>"
            ],
            "image/png": "[encoded data removed]"
          },
          "metadata": {
            "needs_background": "light"
          }
        }
      ]
    },
    {
      "cell_type": "code",
      "source": [
        "#PREDICT / GENERATE IMAGES using the generator, just for fun.\n",
        "##################################################################\n",
        "\n",
        "# Plot generated images\n",
        "def show_plot(examples, n):\n",
        "\tfor i in range(n * n):\n",
        "\t\tplt.subplot(n, n, 1 + i)\n",
        "\t\tplt.axis('off')\n",
        "\t\tplt.imshow(examples[i, :, :, :], cmap='gray')\n",
        "\tplt.show()\n",
        "gen_trained_model = load_model('gen_model_0092.h5') #Model trained for 100 epochs\n",
        "# generate images\n",
        "latent_points = generate_latent_points(100, 25)  #Latent dim and n_samples\n",
        "# generate images\n",
        "X = gen_trained_model.predict(latent_points)\n",
        "# scale from [-1,1] to [0,1]\n",
        "X = (X + 1) / 2.0\n",
        "\n",
        "X = (X*255).astype(np.uint8)\n",
        "\n",
        "# plot the result\n",
        "show_plot(X, 2)\n"
      ],
      "metadata": {
        "id": "Y3eHkdmaxV5Q"
      },
      "execution_count": null,
      "outputs": []
    }
  ]
}